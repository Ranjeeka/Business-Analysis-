{
 "cells": [
  {
   "cell_type": "code",
   "execution_count": 1,
   "metadata": {
    "collapsed": false
   },
   "outputs": [
    {
     "data": {
      "text/plain": [
       "'Connected: None@chinook.db'"
      ]
     },
     "execution_count": 1,
     "metadata": {},
     "output_type": "execute_result"
    }
   ],
   "source": [
    "%%capture\n",
    "%load_ext sql\n",
    "%sql sqlite:///chinook.db"
   ]
  },
  {
   "cell_type": "markdown",
   "metadata": {},
   "source": [
    "## CHINOOK RECORDS DATABASE - A BUSINESS ANALYSIS REPORT ##"
   ]
  },
  {
   "cell_type": "markdown",
   "metadata": {},
   "source": [
    "The record store is signing a deal with a new record label and we are tasked with answering some important questions that will help the business get answers to make good decisions to acquire most profit."
   ]
  },
  {
   "cell_type": "code",
   "execution_count": 2,
   "metadata": {
    "collapsed": false
   },
   "outputs": [
    {
     "name": "stdout",
     "output_type": "stream",
     "text": [
      "Done.\n"
     ]
    },
    {
     "data": {
      "text/html": [
       "<table>\n",
       "    <tr>\n",
       "        <th>name</th>\n",
       "        <th>type</th>\n",
       "    </tr>\n",
       "    <tr>\n",
       "        <td>album</td>\n",
       "        <td>table</td>\n",
       "    </tr>\n",
       "    <tr>\n",
       "        <td>artist</td>\n",
       "        <td>table</td>\n",
       "    </tr>\n",
       "    <tr>\n",
       "        <td>customer</td>\n",
       "        <td>table</td>\n",
       "    </tr>\n",
       "    <tr>\n",
       "        <td>employee</td>\n",
       "        <td>table</td>\n",
       "    </tr>\n",
       "    <tr>\n",
       "        <td>genre</td>\n",
       "        <td>table</td>\n",
       "    </tr>\n",
       "    <tr>\n",
       "        <td>invoice</td>\n",
       "        <td>table</td>\n",
       "    </tr>\n",
       "    <tr>\n",
       "        <td>invoice_line</td>\n",
       "        <td>table</td>\n",
       "    </tr>\n",
       "    <tr>\n",
       "        <td>media_type</td>\n",
       "        <td>table</td>\n",
       "    </tr>\n",
       "    <tr>\n",
       "        <td>playlist</td>\n",
       "        <td>table</td>\n",
       "    </tr>\n",
       "    <tr>\n",
       "        <td>playlist_track</td>\n",
       "        <td>table</td>\n",
       "    </tr>\n",
       "    <tr>\n",
       "        <td>track</td>\n",
       "        <td>table</td>\n",
       "    </tr>\n",
       "    <tr>\n",
       "        <td>cust_count</td>\n",
       "        <td>view</td>\n",
       "    </tr>\n",
       "    <tr>\n",
       "        <td>avg_order_val</td>\n",
       "        <td>view</td>\n",
       "    </tr>\n",
       "</table>"
      ],
      "text/plain": [
       "[('album', 'table'),\n",
       " ('artist', 'table'),\n",
       " ('customer', 'table'),\n",
       " ('employee', 'table'),\n",
       " ('genre', 'table'),\n",
       " ('invoice', 'table'),\n",
       " ('invoice_line', 'table'),\n",
       " ('media_type', 'table'),\n",
       " ('playlist', 'table'),\n",
       " ('playlist_track', 'table'),\n",
       " ('track', 'table'),\n",
       " ('cust_count', 'view'),\n",
       " ('avg_order_val', 'view')]"
      ]
     },
     "execution_count": 2,
     "metadata": {},
     "output_type": "execute_result"
    }
   ],
   "source": [
    "%%sql\n",
    "SELECT\n",
    "    name,\n",
    "    type\n",
    "FROM sqlite_master\n",
    "WHERE type IN (\"table\",\"view\");"
   ]
  },
  {
   "cell_type": "markdown",
   "metadata": {},
   "source": [
    " ### Genres that sell the best in the USA among the prospective new artists that make music in - Hip-Hop, Punk, Pop, Blues ###"
   ]
  },
  {
   "cell_type": "code",
   "execution_count": 3,
   "metadata": {
    "collapsed": false
   },
   "outputs": [
    {
     "name": "stdout",
     "output_type": "stream",
     "text": [
      "Done.\n"
     ]
    },
    {
     "data": {
      "text/html": [
       "<table>\n",
       "    <tr>\n",
       "        <th>genre_name</th>\n",
       "        <th>total_sold</th>\n",
       "    </tr>\n",
       "    <tr>\n",
       "        <td>Alternative &amp; Punk</td>\n",
       "        <td>176</td>\n",
       "    </tr>\n",
       "    <tr>\n",
       "        <td>Blues</td>\n",
       "        <td>56</td>\n",
       "    </tr>\n",
       "    <tr>\n",
       "        <td>Pop</td>\n",
       "        <td>25</td>\n",
       "    </tr>\n",
       "    <tr>\n",
       "        <td>Hip Hop/Rap</td>\n",
       "        <td>21</td>\n",
       "    </tr>\n",
       "</table>"
      ],
      "text/plain": [
       "[('Alternative & Punk', 176), ('Blues', 56), ('Pop', 25), ('Hip Hop/Rap', 21)]"
      ]
     },
     "execution_count": 3,
     "metadata": {},
     "output_type": "execute_result"
    }
   ],
   "source": [
    "%%sql\n",
    "WITH track_genre AS\n",
    "(\n",
    "  SELECT i.quantity,\n",
    "         i.track_id,\n",
    "         g.name AS genre_name,\n",
    "         t.album_id\n",
    "    FROM invoice_line i\n",
    "    INNER JOIN track t ON t.track_id = i.track_id\n",
    "    INNER JOIN genre g ON g.genre_id = t.genre_id\n",
    "    GROUP BY i.track_id\n",
    ")\n",
    "SELECT genre_name,\n",
    "       SUM(quantity) total_sold \n",
    "       FROM track_genre \n",
    "        wHERE genre_name like \"%Hip Hop%\" or \n",
    "        genre_name like \"%Punk%\" or \n",
    "        genre_name = \"Pop\" or\n",
    "        genre_name = \"Blues\"\n",
    "        GROUP BY genre_name\n",
    "        ORDER BY total_sold DESC\n",
    "        ;\n",
    "       "
   ]
  },
  {
   "cell_type": "markdown",
   "metadata": {},
   "source": [
    "From the list of provided artists and their genres, chinook records should purchase music from: \n",
    "-  **Red Tone (Punk) is our top choice**, \n",
    "-  **SLIM JIM BITES, a Blues artist** \n",
    "-  **Meteor and the girls, pop artists**"
   ]
  },
  {
   "cell_type": "code",
   "execution_count": 4,
   "metadata": {
    "collapsed": false
   },
   "outputs": [
    {
     "name": "stdout",
     "output_type": "stream",
     "text": [
      "Done.\n"
     ]
    },
    {
     "data": {
      "text/html": [
       "<table>\n",
       "    <tr>\n",
       "        <th>sales_name</th>\n",
       "        <th>total_sales_amount</th>\n",
       "        <th>support_rep_id</th>\n",
       "    </tr>\n",
       "    <tr>\n",
       "        <td>Jane Peacock</td>\n",
       "        <td>1731</td>\n",
       "        <td>3</td>\n",
       "    </tr>\n",
       "    <tr>\n",
       "        <td>Margaret Park</td>\n",
       "        <td>1584</td>\n",
       "        <td>4</td>\n",
       "    </tr>\n",
       "    <tr>\n",
       "        <td>Steve Johnson</td>\n",
       "        <td>1393</td>\n",
       "        <td>5</td>\n",
       "    </tr>\n",
       "</table>"
      ],
      "text/plain": [
       "[('Jane Peacock', 1731, 3),\n",
       " ('Margaret Park', 1584, 4),\n",
       " ('Steve Johnson', 1393, 5)]"
      ]
     },
     "execution_count": 4,
     "metadata": {},
     "output_type": "execute_result"
    }
   ],
   "source": [
    "%%sql\n",
    "WITH support_sales AS\n",
    "(\n",
    "SELECT  CAST(SUM(i.total) AS INTEGER) total_sales_amount,\n",
    "        MIN(i.total) highest_val,\n",
    "        c.support_rep_id,\n",
    "        e.first_name || \" \" || e.last_name sales_name\n",
    "        FROM invoice i\n",
    "    LEFT JOIN customer c ON c.customer_id = i.customer_id\n",
    "    LEFT JOIN employee e ON e.employee_id = c.support_rep_id\n",
    "    GROUP BY support_rep_id\n",
    ")\n",
    "SELECT sales_name, total_sales_amount, support_rep_id\n",
    "FROM support_sales\n",
    "ORDER BY total_sales_amount DESC;"
   ]
  },
  {
   "cell_type": "markdown",
   "metadata": {},
   "source": [
    "Jane Peacock has the highest sales record amounting to 1731 dollars. The least sales record is held by Steve Johnson."
   ]
  },
  {
   "cell_type": "code",
   "execution_count": 5,
   "metadata": {
    "collapsed": false
   },
   "outputs": [
    {
     "name": "stdout",
     "output_type": "stream",
     "text": [
      "Done.\n"
     ]
    },
    {
     "data": {
      "text/html": [
       "<table>\n",
       "    <tr>\n",
       "        <th>employee_id</th>\n",
       "        <th>last_name</th>\n",
       "        <th>first_name</th>\n",
       "        <th>title</th>\n",
       "        <th>reports_to</th>\n",
       "        <th>birthdate</th>\n",
       "        <th>hire_date</th>\n",
       "        <th>address</th>\n",
       "        <th>city</th>\n",
       "        <th>state</th>\n",
       "        <th>country</th>\n",
       "        <th>postal_code</th>\n",
       "        <th>phone</th>\n",
       "        <th>fax</th>\n",
       "        <th>email</th>\n",
       "    </tr>\n",
       "    <tr>\n",
       "        <td>3</td>\n",
       "        <td>Peacock</td>\n",
       "        <td>Jane</td>\n",
       "        <td>Sales Support Agent</td>\n",
       "        <td>2</td>\n",
       "        <td>1973-08-29 00:00:00</td>\n",
       "        <td>2017-04-01 00:00:00</td>\n",
       "        <td>1111 6 Ave SW</td>\n",
       "        <td>Calgary</td>\n",
       "        <td>AB</td>\n",
       "        <td>Canada</td>\n",
       "        <td>T2P 5M5</td>\n",
       "        <td>+1 (403) 262-3443</td>\n",
       "        <td>+1 (403) 262-6712</td>\n",
       "        <td>jane@chinookcorp.com</td>\n",
       "    </tr>\n",
       "    <tr>\n",
       "        <td>4</td>\n",
       "        <td>Park</td>\n",
       "        <td>Margaret</td>\n",
       "        <td>Sales Support Agent</td>\n",
       "        <td>2</td>\n",
       "        <td>1947-09-19 00:00:00</td>\n",
       "        <td>2017-05-03 00:00:00</td>\n",
       "        <td>683 10 Street SW</td>\n",
       "        <td>Calgary</td>\n",
       "        <td>AB</td>\n",
       "        <td>Canada</td>\n",
       "        <td>T2P 5G3</td>\n",
       "        <td>+1 (403) 263-4423</td>\n",
       "        <td>+1 (403) 263-4289</td>\n",
       "        <td>margaret@chinookcorp.com</td>\n",
       "    </tr>\n",
       "    <tr>\n",
       "        <td>5</td>\n",
       "        <td>Johnson</td>\n",
       "        <td>Steve</td>\n",
       "        <td>Sales Support Agent</td>\n",
       "        <td>2</td>\n",
       "        <td>1965-03-03 00:00:00</td>\n",
       "        <td>2017-10-17 00:00:00</td>\n",
       "        <td>7727B 41 Ave</td>\n",
       "        <td>Calgary</td>\n",
       "        <td>AB</td>\n",
       "        <td>Canada</td>\n",
       "        <td>T3B 1Y7</td>\n",
       "        <td>1 (780) 836-9987</td>\n",
       "        <td>1 (780) 836-9543</td>\n",
       "        <td>steve@chinookcorp.com</td>\n",
       "    </tr>\n",
       "</table>"
      ],
      "text/plain": [
       "[(3, 'Peacock', 'Jane', 'Sales Support Agent', 2, '1973-08-29 00:00:00', '2017-04-01 00:00:00', '1111 6 Ave SW', 'Calgary', 'AB', 'Canada', 'T2P 5M5', '+1 (403) 262-3443', '+1 (403) 262-6712', 'jane@chinookcorp.com'),\n",
       " (4, 'Park', 'Margaret', 'Sales Support Agent', 2, '1947-09-19 00:00:00', '2017-05-03 00:00:00', '683 10 Street SW', 'Calgary', 'AB', 'Canada', 'T2P 5G3', '+1 (403) 263-4423', '+1 (403) 263-4289', 'margaret@chinookcorp.com'),\n",
       " (5, 'Johnson', 'Steve', 'Sales Support Agent', 2, '1965-03-03 00:00:00', '2017-10-17 00:00:00', '7727B 41 Ave', 'Calgary', 'AB', 'Canada', 'T3B 1Y7', '1 (780) 836-9987', '1 (780) 836-9543', 'steve@chinookcorp.com')]"
      ]
     },
     "execution_count": 5,
     "metadata": {},
     "output_type": "execute_result"
    }
   ],
   "source": [
    "%%sql\n",
    "SELECT *\n",
    "\n",
    "FROM employee\n",
    "WHERE employee_id = 3 or\n",
    "employee_id = 4 or\n",
    "employee_id = 5\n",
    ";\n"
   ]
  },
  {
   "cell_type": "markdown",
   "metadata": {},
   "source": [
    "A quick look-up at the employee table tells us that the least performing salesman with **Steve Johnson has a phone number with area code in Alberta, Calgary** whereas the **other two agents have a number from the Calgary area** which is where the office is. Steve Johnson seems to be **working remotely** which could explain his lower sales numbers."
   ]
  },
  {
   "cell_type": "markdown",
   "metadata": {
    "collapsed": true
   },
   "source": [
    "### Analyzing sales data from different countries ###\n",
    "\n",
    "We are going to look at sales by country and average order value by country to determine:\n",
    "- Country with the most overall sales.\n",
    "- Country with the highest average order value.\n",
    "\n",
    "Some countries have only 1 customer, we will label those countries as other."
   ]
  },
  {
   "cell_type": "code",
   "execution_count": 6,
   "metadata": {
    "collapsed": false
   },
   "outputs": [
    {
     "name": "stdout",
     "output_type": "stream",
     "text": [
      "Done.\n",
      "Done.\n",
      "Done.\n"
     ]
    },
    {
     "data": {
      "text/html": [
       "<table>\n",
       "    <tr>\n",
       "        <th>ct</th>\n",
       "        <th>country</th>\n",
       "        <th>sort</th>\n",
       "    </tr>\n",
       "    <tr>\n",
       "        <td>5</td>\n",
       "        <td>Brazil</td>\n",
       "        <td>None</td>\n",
       "    </tr>\n",
       "    <tr>\n",
       "        <td>8</td>\n",
       "        <td>Canada</td>\n",
       "        <td>None</td>\n",
       "    </tr>\n",
       "    <tr>\n",
       "        <td>2</td>\n",
       "        <td>Czech Republic</td>\n",
       "        <td>None</td>\n",
       "    </tr>\n",
       "    <tr>\n",
       "        <td>5</td>\n",
       "        <td>France</td>\n",
       "        <td>None</td>\n",
       "    </tr>\n",
       "    <tr>\n",
       "        <td>4</td>\n",
       "        <td>Germany</td>\n",
       "        <td>None</td>\n",
       "    </tr>\n",
       "    <tr>\n",
       "        <td>2</td>\n",
       "        <td>India</td>\n",
       "        <td>None</td>\n",
       "    </tr>\n",
       "    <tr>\n",
       "        <td>2</td>\n",
       "        <td>Portugal</td>\n",
       "        <td>None</td>\n",
       "    </tr>\n",
       "    <tr>\n",
       "        <td>13</td>\n",
       "        <td>USA</td>\n",
       "        <td>None</td>\n",
       "    </tr>\n",
       "    <tr>\n",
       "        <td>3</td>\n",
       "        <td>United Kingdom</td>\n",
       "        <td>None</td>\n",
       "    </tr>\n",
       "    <tr>\n",
       "        <td>1</td>\n",
       "        <td>Argentina</td>\n",
       "        <td>other</td>\n",
       "    </tr>\n",
       "    <tr>\n",
       "        <td>1</td>\n",
       "        <td>Australia</td>\n",
       "        <td>other</td>\n",
       "    </tr>\n",
       "    <tr>\n",
       "        <td>1</td>\n",
       "        <td>Austria</td>\n",
       "        <td>other</td>\n",
       "    </tr>\n",
       "    <tr>\n",
       "        <td>1</td>\n",
       "        <td>Belgium</td>\n",
       "        <td>other</td>\n",
       "    </tr>\n",
       "    <tr>\n",
       "        <td>1</td>\n",
       "        <td>Chile</td>\n",
       "        <td>other</td>\n",
       "    </tr>\n",
       "    <tr>\n",
       "        <td>1</td>\n",
       "        <td>Denmark</td>\n",
       "        <td>other</td>\n",
       "    </tr>\n",
       "    <tr>\n",
       "        <td>1</td>\n",
       "        <td>Finland</td>\n",
       "        <td>other</td>\n",
       "    </tr>\n",
       "    <tr>\n",
       "        <td>1</td>\n",
       "        <td>Hungary</td>\n",
       "        <td>other</td>\n",
       "    </tr>\n",
       "    <tr>\n",
       "        <td>1</td>\n",
       "        <td>Ireland</td>\n",
       "        <td>other</td>\n",
       "    </tr>\n",
       "    <tr>\n",
       "        <td>1</td>\n",
       "        <td>Italy</td>\n",
       "        <td>other</td>\n",
       "    </tr>\n",
       "    <tr>\n",
       "        <td>1</td>\n",
       "        <td>Netherlands</td>\n",
       "        <td>other</td>\n",
       "    </tr>\n",
       "    <tr>\n",
       "        <td>1</td>\n",
       "        <td>Norway</td>\n",
       "        <td>other</td>\n",
       "    </tr>\n",
       "    <tr>\n",
       "        <td>1</td>\n",
       "        <td>Poland</td>\n",
       "        <td>other</td>\n",
       "    </tr>\n",
       "    <tr>\n",
       "        <td>1</td>\n",
       "        <td>Spain</td>\n",
       "        <td>other</td>\n",
       "    </tr>\n",
       "    <tr>\n",
       "        <td>1</td>\n",
       "        <td>Sweden</td>\n",
       "        <td>other</td>\n",
       "    </tr>\n",
       "</table>"
      ],
      "text/plain": [
       "[(5, 'Brazil', None),\n",
       " (8, 'Canada', None),\n",
       " (2, 'Czech Republic', None),\n",
       " (5, 'France', None),\n",
       " (4, 'Germany', None),\n",
       " (2, 'India', None),\n",
       " (2, 'Portugal', None),\n",
       " (13, 'USA', None),\n",
       " (3, 'United Kingdom', None),\n",
       " (1, 'Argentina', 'other'),\n",
       " (1, 'Australia', 'other'),\n",
       " (1, 'Austria', 'other'),\n",
       " (1, 'Belgium', 'other'),\n",
       " (1, 'Chile', 'other'),\n",
       " (1, 'Denmark', 'other'),\n",
       " (1, 'Finland', 'other'),\n",
       " (1, 'Hungary', 'other'),\n",
       " (1, 'Ireland', 'other'),\n",
       " (1, 'Italy', 'other'),\n",
       " (1, 'Netherlands', 'other'),\n",
       " (1, 'Norway', 'other'),\n",
       " (1, 'Poland', 'other'),\n",
       " (1, 'Spain', 'other'),\n",
       " (1, 'Sweden', 'other')]"
      ]
     },
     "execution_count": 6,
     "metadata": {},
     "output_type": "execute_result"
    }
   ],
   "source": [
    "%%sql\n",
    "DROP VIEW IF EXISTS cust_count;\n",
    "CREATE VIEW cust_count AS\n",
    "\n",
    "SELECT \n",
    "COUNT(customer_id) ct,\n",
    "country,\n",
    "\n",
    "CASE \n",
    "WHEN COUNT(customer_id)= 1 THEN 'other'\n",
    "END AS sort\n",
    "\n",
    "FROM customer\n",
    "GROUP BY country\n",
    "ORDER BY sort;\n",
    "\n",
    " \n",
    "\n",
    "SELECT *\n",
    "\n",
    "FROM cust_count\n",
    "\n",
    ";"
   ]
  },
  {
   "cell_type": "code",
   "execution_count": 7,
   "metadata": {
    "collapsed": false
   },
   "outputs": [
    {
     "name": "stdout",
     "output_type": "stream",
     "text": [
      "Done.\n",
      "Done.\n"
     ]
    },
    {
     "data": {
      "text/plain": [
       "[]"
      ]
     },
     "execution_count": 7,
     "metadata": {},
     "output_type": "execute_result"
    }
   ],
   "source": [
    "%%sql\n",
    "DROP VIEW IF EXISTS avg_order_val;\n",
    "CREATE VIEW avg_order_val AS\n",
    "\n",
    "SELECT \n",
    "country,\n",
    "avg(total) av_ord_val\n",
    "FROM customer c\n",
    "INNER JOIN \n",
    "(\n",
    "    SELECT invoice_id,\n",
    "    total,\n",
    "    customer_id ci\n",
    "    FROM invoice i\n",
    "    GROUP BY invoice_id)  ON ci = c.customer_id\n",
    "GROUP BY country;\n"
   ]
  },
  {
   "cell_type": "code",
   "execution_count": 8,
   "metadata": {
    "collapsed": false,
    "scrolled": true
   },
   "outputs": [
    {
     "name": "stdout",
     "output_type": "stream",
     "text": [
      "Done.\n"
     ]
    },
    {
     "data": {
      "text/html": [
       "<table>\n",
       "    <tr>\n",
       "        <th>country</th>\n",
       "        <th>customer_count</th>\n",
       "        <th>total_sales</th>\n",
       "        <th>avg_sales_customer</th>\n",
       "        <th>av_ord_val</th>\n",
       "        <th>sort</th>\n",
       "    </tr>\n",
       "    <tr>\n",
       "        <td>USA</td>\n",
       "        <td>13</td>\n",
       "        <td>1040.49</td>\n",
       "        <td>8.376923076923076</td>\n",
       "        <td>7.942671755725189</td>\n",
       "        <td>None</td>\n",
       "    </tr>\n",
       "    <tr>\n",
       "        <td>Canada</td>\n",
       "        <td>8</td>\n",
       "        <td>535.59</td>\n",
       "        <td>7.30125</td>\n",
       "        <td>7.047236842105265</td>\n",
       "        <td>None</td>\n",
       "    </tr>\n",
       "    <tr>\n",
       "        <td>Brazil</td>\n",
       "        <td>5</td>\n",
       "        <td>427.67999999999995</td>\n",
       "        <td>9.108</td>\n",
       "        <td>7.0111475409836075</td>\n",
       "        <td>None</td>\n",
       "    </tr>\n",
       "    <tr>\n",
       "        <td>France</td>\n",
       "        <td>5</td>\n",
       "        <td>389.07</td>\n",
       "        <td>8.91</td>\n",
       "        <td>7.781399999999998</td>\n",
       "        <td>None</td>\n",
       "    </tr>\n",
       "    <tr>\n",
       "        <td>Germany</td>\n",
       "        <td>4</td>\n",
       "        <td>334.62</td>\n",
       "        <td>7.672499999999999</td>\n",
       "        <td>8.161463414634147</td>\n",
       "        <td>None</td>\n",
       "    </tr>\n",
       "    <tr>\n",
       "        <td>Czech Republic</td>\n",
       "        <td>2</td>\n",
       "        <td>273.24</td>\n",
       "        <td>5.94</td>\n",
       "        <td>9.108000000000002</td>\n",
       "        <td>None</td>\n",
       "    </tr>\n",
       "    <tr>\n",
       "        <td>United Kingdom</td>\n",
       "        <td>3</td>\n",
       "        <td>245.51999999999998</td>\n",
       "        <td>6.6000000000000005</td>\n",
       "        <td>8.768571428571429</td>\n",
       "        <td>None</td>\n",
       "    </tr>\n",
       "    <tr>\n",
       "        <td>Portugal</td>\n",
       "        <td>2</td>\n",
       "        <td>185.13</td>\n",
       "        <td>4.455</td>\n",
       "        <td>6.383793103448276</td>\n",
       "        <td>None</td>\n",
       "    </tr>\n",
       "    <tr>\n",
       "        <td>India</td>\n",
       "        <td>2</td>\n",
       "        <td>183.14999999999998</td>\n",
       "        <td>3.96</td>\n",
       "        <td>8.72142857142857</td>\n",
       "        <td>None</td>\n",
       "    </tr>\n",
       "    <tr>\n",
       "        <td>Ireland</td>\n",
       "        <td>1</td>\n",
       "        <td>114.83999999999997</td>\n",
       "        <td>17.82</td>\n",
       "        <td>8.833846153846151</td>\n",
       "        <td>other</td>\n",
       "    </tr>\n",
       "    <tr>\n",
       "        <td>Spain</td>\n",
       "        <td>1</td>\n",
       "        <td>98.01</td>\n",
       "        <td>15.84</td>\n",
       "        <td>8.91</td>\n",
       "        <td>other</td>\n",
       "    </tr>\n",
       "    <tr>\n",
       "        <td>Chile</td>\n",
       "        <td>1</td>\n",
       "        <td>97.02000000000001</td>\n",
       "        <td>10.89</td>\n",
       "        <td>7.463076923076924</td>\n",
       "        <td>other</td>\n",
       "    </tr>\n",
       "    <tr>\n",
       "        <td>Australia</td>\n",
       "        <td>1</td>\n",
       "        <td>81.18</td>\n",
       "        <td>6.93</td>\n",
       "        <td>8.118</td>\n",
       "        <td>other</td>\n",
       "    </tr>\n",
       "    <tr>\n",
       "        <td>Finland</td>\n",
       "        <td>1</td>\n",
       "        <td>79.2</td>\n",
       "        <td>10.89</td>\n",
       "        <td>7.2</td>\n",
       "        <td>other</td>\n",
       "    </tr>\n",
       "    <tr>\n",
       "        <td>Hungary</td>\n",
       "        <td>1</td>\n",
       "        <td>78.21</td>\n",
       "        <td>5.9399999999999995</td>\n",
       "        <td>7.821</td>\n",
       "        <td>other</td>\n",
       "    </tr>\n",
       "    <tr>\n",
       "        <td>Poland</td>\n",
       "        <td>1</td>\n",
       "        <td>76.22999999999999</td>\n",
       "        <td>0.99</td>\n",
       "        <td>7.622999999999999</td>\n",
       "        <td>other</td>\n",
       "    </tr>\n",
       "    <tr>\n",
       "        <td>Sweden</td>\n",
       "        <td>1</td>\n",
       "        <td>75.24</td>\n",
       "        <td>8.91</td>\n",
       "        <td>7.523999999999999</td>\n",
       "        <td>other</td>\n",
       "    </tr>\n",
       "    <tr>\n",
       "        <td>Norway</td>\n",
       "        <td>1</td>\n",
       "        <td>72.27000000000001</td>\n",
       "        <td>6.93</td>\n",
       "        <td>8.030000000000001</td>\n",
       "        <td>other</td>\n",
       "    </tr>\n",
       "    <tr>\n",
       "        <td>Austria</td>\n",
       "        <td>1</td>\n",
       "        <td>69.3</td>\n",
       "        <td>4.95</td>\n",
       "        <td>7.699999999999999</td>\n",
       "        <td>other</td>\n",
       "    </tr>\n",
       "    <tr>\n",
       "        <td>Netherlands</td>\n",
       "        <td>1</td>\n",
       "        <td>65.34</td>\n",
       "        <td>6.93</td>\n",
       "        <td>6.534000000000001</td>\n",
       "        <td>other</td>\n",
       "    </tr>\n",
       "    <tr>\n",
       "        <td>Belgium</td>\n",
       "        <td>1</td>\n",
       "        <td>60.38999999999999</td>\n",
       "        <td>9.9</td>\n",
       "        <td>8.627142857142855</td>\n",
       "        <td>other</td>\n",
       "    </tr>\n",
       "    <tr>\n",
       "        <td>Italy</td>\n",
       "        <td>1</td>\n",
       "        <td>50.49</td>\n",
       "        <td>0.99</td>\n",
       "        <td>5.61</td>\n",
       "        <td>other</td>\n",
       "    </tr>\n",
       "    <tr>\n",
       "        <td>Argentina</td>\n",
       "        <td>1</td>\n",
       "        <td>39.6</td>\n",
       "        <td>0.99</td>\n",
       "        <td>7.92</td>\n",
       "        <td>other</td>\n",
       "    </tr>\n",
       "    <tr>\n",
       "        <td>Denmark</td>\n",
       "        <td>1</td>\n",
       "        <td>37.61999999999999</td>\n",
       "        <td>1.98</td>\n",
       "        <td>3.761999999999999</td>\n",
       "        <td>other</td>\n",
       "    </tr>\n",
       "</table>"
      ],
      "text/plain": [
       "[('USA', 13, 1040.49, 8.376923076923076, 7.942671755725189, None),\n",
       " ('Canada', 8, 535.59, 7.30125, 7.047236842105265, None),\n",
       " ('Brazil', 5, 427.67999999999995, 9.108, 7.0111475409836075, None),\n",
       " ('France', 5, 389.07, 8.91, 7.781399999999998, None),\n",
       " ('Germany', 4, 334.62, 7.672499999999999, 8.161463414634147, None),\n",
       " ('Czech Republic', 2, 273.24, 5.94, 9.108000000000002, None),\n",
       " ('United Kingdom', 3, 245.51999999999998, 6.6000000000000005, 8.768571428571429, None),\n",
       " ('Portugal', 2, 185.13, 4.455, 6.383793103448276, None),\n",
       " ('India', 2, 183.14999999999998, 3.96, 8.72142857142857, None),\n",
       " ('Ireland', 1, 114.83999999999997, 17.82, 8.833846153846151, 'other'),\n",
       " ('Spain', 1, 98.01, 15.84, 8.91, 'other'),\n",
       " ('Chile', 1, 97.02000000000001, 10.89, 7.463076923076924, 'other'),\n",
       " ('Australia', 1, 81.18, 6.93, 8.118, 'other'),\n",
       " ('Finland', 1, 79.2, 10.89, 7.2, 'other'),\n",
       " ('Hungary', 1, 78.21, 5.9399999999999995, 7.821, 'other'),\n",
       " ('Poland', 1, 76.22999999999999, 0.99, 7.622999999999999, 'other'),\n",
       " ('Sweden', 1, 75.24, 8.91, 7.523999999999999, 'other'),\n",
       " ('Norway', 1, 72.27000000000001, 6.93, 8.030000000000001, 'other'),\n",
       " ('Austria', 1, 69.3, 4.95, 7.699999999999999, 'other'),\n",
       " ('Netherlands', 1, 65.34, 6.93, 6.534000000000001, 'other'),\n",
       " ('Belgium', 1, 60.38999999999999, 9.9, 8.627142857142855, 'other'),\n",
       " ('Italy', 1, 50.49, 0.99, 5.61, 'other'),\n",
       " ('Argentina', 1, 39.6, 0.99, 7.92, 'other'),\n",
       " ('Denmark', 1, 37.61999999999999, 1.98, 3.761999999999999, 'other')]"
      ]
     },
     "execution_count": 8,
     "metadata": {},
     "output_type": "execute_result"
    }
   ],
   "source": [
    "%%sql\n",
    "SELECT c.country, \n",
    "ct customer_count,\n",
    "SUM(tot) total_sales,\n",
    "AVG(tots) avg_sales_customer,\n",
    "av.av_ord_val,\n",
    "cc.sort\n",
    "FROM customer c\n",
    "INNER JOIN (\n",
    "    SELECT SUM(i.total) tot,\n",
    "    i.total tots,\n",
    "    customer_id id_c\n",
    "    FROM invoice i\n",
    "    GROUP BY customer_id )\n",
    "ON id_c = c.customer_id\n",
    "INNER JOIN cust_count cc ON cc.country = c.country\n",
    "INNER JOIN avg_order_val av ON av.country = c.country\n",
    "GROUP BY c.country\n",
    "ORDER BY cc.sort, total_sales DESC;\n"
   ]
  },
  {
   "cell_type": "markdown",
   "metadata": {},
   "source": [
    "**According our findings**\n",
    "- USA has the highest total sales amounting to USD 1040 with 13 customers\n",
    "- Czech Republic has the highest average order value at USD 9.1 \n"
   ]
  },
  {
   "cell_type": "markdown",
   "metadata": {},
   "source": [
    "### Calculating number of invoices with album sales ###\n",
    "\n",
    "The company wants to know if customer tend to purchase whole albums or just a few tracks from an album. To answer that question we take a look at the invoice_line and track tables. We will calculate:\n",
    "\n",
    "- Number of invoices\n",
    "- total number of invoices with album purchases"
   ]
  },
  {
   "cell_type": "code",
   "execution_count": 89,
   "metadata": {
    "collapsed": false
   },
   "outputs": [
    {
     "name": "stdout",
     "output_type": "stream",
     "text": [
      "Done.\n"
     ]
    },
    {
     "data": {
      "text/html": [
       "<table>\n",
       "    <tr>\n",
       "        <th>Total_invoices</th>\n",
       "        <th>CAST(SUM(type_invoice) AS FLOAT)/614</th>\n",
       "    </tr>\n",
       "    <tr>\n",
       "        <td>614</td>\n",
       "        <td>0.18078175895765472</td>\n",
       "    </tr>\n",
       "</table>"
      ],
      "text/plain": [
       "[(614, 0.18078175895765472)]"
      ]
     },
     "execution_count": 89,
     "metadata": {},
     "output_type": "execute_result"
    }
   ],
   "source": [
    "%%sql\n",
    "WITH invoice_album AS\n",
    "\n",
    "(\n",
    "    SELECT il.invoice_id, \n",
    "         il.track_id, \n",
    "         t.album_id \n",
    "FROM invoice_line il\n",
    "INNER JOIN (SELECT * FROM track) t ON t.track_id = il.track_id\n",
    "),\n",
    "\n",
    "tracks_count AS\n",
    "(\n",
    "Select invoice_id,\n",
    "       ia.album_id,\n",
    "       COUNT(ia.album_id) tracks_invoice,\n",
    "        tracks_album\n",
    "    FROM invoice_album ia\n",
    "    LEFT JOIN \n",
    "    ( SELECT COUNT(t.track_id) tracks_album, album_id AS tai\n",
    "     FROM track t\n",
    "     GROUP BY tai) ON tai= ia.album_id\n",
    "GROUP BY invoice_id, ia.album_id\n",
    "), final_count AS\n",
    "(\n",
    "SELECT *, \n",
    "CASE\n",
    "WHEN tracks_invoice = tracks_album\n",
    "THEN 1\n",
    "ELSE 0\n",
    "END AS type_invoice\n",
    "FROM tracks_count\n",
    "GROUP BY invoice_id\n",
    "HAVING tracks_album > 2\n",
    ")\n",
    "\n",
    "Select MAX(invoice_id) Total_invoices, CAST(SUM(type_invoice) AS FLOAT)/614  from final_count;"
   ]
  },
  {
   "cell_type": "markdown",
   "metadata": {},
   "source": [
    "Around 18% of the invoices are album purchases. Based on our findings, we recomment Chinook Company to avoid full album purchases and purchase only tracks from Albums."
   ]
  }
 ],
 "metadata": {
  "kernelspec": {
   "display_name": "Python 3",
   "language": "python",
   "name": "python3"
  },
  "language_info": {
   "codemirror_mode": {
    "name": "ipython",
    "version": 3
   },
   "file_extension": ".py",
   "mimetype": "text/x-python",
   "name": "python",
   "nbconvert_exporter": "python",
   "pygments_lexer": "ipython3",
   "version": "3.4.3"
  }
 },
 "nbformat": 4,
 "nbformat_minor": 2
}
